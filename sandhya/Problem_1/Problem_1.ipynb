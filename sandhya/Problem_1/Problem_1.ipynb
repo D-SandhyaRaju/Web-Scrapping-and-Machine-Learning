{
 "cells": [
  {
   "cell_type": "code",
   "execution_count": 1,
   "id": "87e3be25",
   "metadata": {},
   "outputs": [],
   "source": [
    "from bs4 import BeautifulSoup\n",
    "import urllib,urllib.request,os\n",
    "actor=input(\"enter actor name: \")\n",
    "url = \"https://en.wikipedia.org/wiki/\"+actor+\"_filmography\""
   ]
  },
  {
   "cell_type": "code",
   "execution_count": 2,
   "id": "4e500051",
   "metadata": {},
   "outputs": [],
   "source": [
    "request=urllib.request.Request(url)\n",
    "response=urllib.request.urlopen(request)\n",
    "content=response.read().decode(response.headers.get_content_charset())\n"
   ]
  },
  {
   "cell_type": "code",
   "execution_count": 3,
   "id": "59e95c6e",
   "metadata": {},
   "outputs": [],
   "source": [
    "soup = BeautifulSoup(content, 'html.parser')"
   ]
  },
  {
   "cell_type": "code",
   "execution_count": 4,
   "id": "d3269166",
   "metadata": {},
   "outputs": [],
   "source": [
    "acting_table = soup.find(\"table\", {\"class\": \"wikitable\", \"class\": \"sortable\"})\n",
    "rows = acting_table.find_all(\"tr\")"
   ]
  },
  {
   "cell_type": "code",
   "execution_count": 5,
   "id": "fb22c8bc",
   "metadata": {},
   "outputs": [
    {
     "name": "stdout",
     "output_type": "stream",
     "text": [
      "Jersey (2019 film)\n",
      "Nani (actor)\n",
      "D for Dopidi\n",
      "Ashta Chamma\n",
      "Ride (2009 film)\n",
      "Snehituda\n",
      "Bheemili Kabaddi Jattu\n",
      "Ala Modalaindi\n",
      "Veppam\n",
      "Pilla Zamindar\n",
      "Eega\n",
      "Yeto Vellipoyindhi Manasu\n",
      "Neethaane En Ponvasantham\n",
      "Paisa (2014 film)\n",
      "Aaha Kalyanam\n",
      "Nimirndhu Nil\n",
      "Janda Pai Kapiraju\n",
      "Yevade Subramanyam\n",
      "Dongaata (2015 film)\n",
      "Superstar Kidnap\n",
      "Bhale Bhale Magadivoy\n",
      "Krishna Gaadi Veera Prema Gaadha\n",
      "Gentleman (2016 film)\n",
      "Jyo Achyutananda\n",
      "Majnu (2016 film)\n",
      "Nenu Local\n",
      "Ninnu Kori\n",
      "Middle Class Abbayi\n",
      "Krishnarjuna Yudham\n",
      "Neevevaro\n",
      "Devadas (2018 film)\n",
      "Jersey (2019 film)\n",
      "Nani&#39;s Gang Leader\n",
      "V (2020 film)\n",
      "Tuck Jagadish\n",
      "Shyam Singha Roy\n",
      "Ante Sundaraniki\n",
      "HIT: The Second Case\n",
      "Dasara (film)\n",
      "O Kadhal Kanmani\n",
      "Awe (film)\n",
      "Jersey (2019 film)\n",
      "Radha Gopalam\n",
      "Allari Bullodu\n",
      "Astram (film)\n",
      "Dhee (film)\n",
      "D for Dopidi\n",
      "Amoli (film)\n",
      "Ee Maaya Peremito\n",
      "D for Dopidi\n",
      "Awe (film)\n",
      "HIT: The First Case\n",
      "Meet Cute (series)\n",
      "HIT: The Second Case\n",
      "Meelo Evaru Koteeswarudu\n",
      "Extra Jabardasth\n",
      "Meelo Evaru Koteeswarudu\n",
      "Bigg Boss (Telugu season 2)\n",
      "Bigg Boss (Telugu season 3)\n",
      "Rediff.com\n",
      "The Times of India\n",
      "Hindustan Times\n",
      "The Hindu\n",
      "The Hindu\n",
      "Bangalore Mirror\n",
      "The Indian Express\n",
      "The New Indian Express\n",
      "India Today\n",
      "Firstpost\n",
      "Sify\n",
      "Idlebrain.com\n",
      "Rediff.com\n",
      "Rediff.com\n",
      "Rediff.com\n",
      "Sify\n",
      "Sify\n",
      "Baradwaj Rangan\n",
      "The Hindu\n",
      "Sakshi (newspaper)\n",
      "The Hindu\n",
      "Rediff.com\n",
      "The Hindu\n",
      "The Hindu\n",
      "The Indian Express\n",
      "Deccan Chronicle\n",
      "The Hindu\n",
      "Firstpost\n",
      "The Hindu\n",
      "The Hindu\n",
      "The Hindu\n",
      "The Hindu\n",
      "India Today\n",
      "Indian Express Limited\n",
      "Deccan Chronicle\n",
      "India Today\n",
      "Telangana Today\n",
      "The Hindu\n",
      "Hindustan Times\n",
      "International Business Times\n",
      "The Indian Express\n",
      "Deccan Chronicle\n",
      "India Today\n",
      "Telangana Today\n"
     ]
    }
   ],
   "source": [
    "for l in content.split('\\n'):\n",
    "    if l.find('<i><a href=')>=1:\n",
    "        movie_name=l.split('title=\"')[1].split('\">')[0]\n",
    "        print(movie_name)"
   ]
  },
  {
   "cell_type": "code",
   "execution_count": null,
   "id": "ca6a38c0",
   "metadata": {},
   "outputs": [],
   "source": []
  }
 ],
 "metadata": {
  "kernelspec": {
   "display_name": "Python 3 (ipykernel)",
   "language": "python",
   "name": "python3"
  },
  "language_info": {
   "codemirror_mode": {
    "name": "ipython",
    "version": 3
   },
   "file_extension": ".py",
   "mimetype": "text/x-python",
   "name": "python",
   "nbconvert_exporter": "python",
   "pygments_lexer": "ipython3",
   "version": "3.10.9"
  }
 },
 "nbformat": 4,
 "nbformat_minor": 5
}
